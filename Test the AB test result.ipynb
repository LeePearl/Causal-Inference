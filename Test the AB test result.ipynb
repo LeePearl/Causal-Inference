{
 "cells": [
  {
   "cell_type": "markdown",
   "id": "86a6b199-dcd1-446e-ae42-c4c115795bfd",
   "metadata": {},
   "source": [
    "## Is the meaningful of difference in proportion of two groups? \n",
    "- control group\n",
    "    - n1: 1000\n",
    "    - p1: 20/1000\n",
    "- treatment group\n",
    "    - n2: 1100\n",
    "    - p2: 30/1100\n",
    "    \n",
    "- Hypothesis\n",
    "    - H0: p1-p2=0\n",
    "    - H1: p1-p2>0"
   ]
  },
  {
   "cell_type": "code",
   "execution_count": 9,
   "id": "eb43241c-8a89-4f51-bcfd-55ca0d66989c",
   "metadata": {},
   "outputs": [],
   "source": [
    "import math\n",
    "import scipy.stats as stats"
   ]
  },
  {
   "cell_type": "code",
   "execution_count": 10,
   "id": "2c3b9b2f-eb82-4e54-846b-b41093547abb",
   "metadata": {},
   "outputs": [],
   "source": [
    "def z_test_proportions(p1, n1, p2, n2, side=2):\n",
    "    m1 = p1*n1 \n",
    "    m2 = p2*n2\n",
    "    \n",
    "    # 합동 표본 비율\n",
    "    p = (m1+m2)/(n1+n2)\n",
    "    \n",
    "    # 각 그룹에서의 표준 오차\n",
    "    se1 = math.sqrt(p * (1-p) / n1)\n",
    "    se2 = math.sqrt(p * (1-p) / n2)\n",
    "    \n",
    "    # 두 그룹의 표본 비율의 차이 계산\n",
    "    diff = p1 - p2\n",
    "    \n",
    "    # 표본 비율의 차이에 대한 표준 오차 계산\n",
    "    se_diff = math.sqrt(se1**2 + se2**2)\n",
    "    \n",
    "    # Z-test 통계량 계산\n",
    "    z_statistic = diff / se_diff\n",
    "    \n",
    "    # Z-test 통계량에 대한 p-value 계산\n",
    "    p_value = side * (1-stats.norm.cdf(abs(z_statistic))) \n",
    "    \n",
    "    return z_statistic, p_value"
   ]
  },
  {
   "cell_type": "code",
   "execution_count": 11,
   "id": "cdd3e4c2-31d9-439c-b122-18176ffba4e0",
   "metadata": {},
   "outputs": [
    {
     "data": {
      "text/plain": [
       "'\\nH0: p1-p2=0\\nH1: p1-p2<0\\n'"
      ]
     },
     "execution_count": 11,
     "metadata": {},
     "output_type": "execute_result"
    }
   ],
   "source": [
    "#control group\n",
    "n1= 1000\n",
    "p1= 20/1000\n",
    "\n",
    "# treatment group\n",
    "n2= 1100\n",
    "p2= 30/1100\n",
    "\n",
    "#Hypothesis\n",
    "\"\"\"\n",
    "H0: p1-p2=0\n",
    "H1: p1-p2<0\n",
    "\"\"\""
   ]
  },
  {
   "cell_type": "code",
   "execution_count": 12,
   "id": "f8b9c82f-3cac-485a-83b2-0c328cbd27b6",
   "metadata": {},
   "outputs": [
    {
     "name": "stdout",
     "output_type": "stream",
     "text": [
      "Z-test statistic: -1.0918\n",
      "P-value: 0.1375\n"
     ]
    }
   ],
   "source": [
    "z_stat, p_value = z_test_proportions(p1,n1,p2,n2,side=1)\n",
    "print(\"Z-test statistic:\",\"%.4f\"%z_stat)\n",
    "print(\"P-value:\",\"%.4f\"%p_value)"
   ]
  }
 ],
 "metadata": {
  "kernelspec": {
   "display_name": "Python 3 (ipykernel)",
   "language": "python",
   "name": "python3"
  },
  "language_info": {
   "codemirror_mode": {
    "name": "ipython",
    "version": 3
   },
   "file_extension": ".py",
   "mimetype": "text/x-python",
   "name": "python",
   "nbconvert_exporter": "python",
   "pygments_lexer": "ipython3",
   "version": "3.10.9"
  }
 },
 "nbformat": 4,
 "nbformat_minor": 5
}
